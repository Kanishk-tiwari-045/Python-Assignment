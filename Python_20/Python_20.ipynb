{
 "cells": [
  {
   "cell_type": "code",
   "execution_count": 1,
   "metadata": {},
   "outputs": [
    {
     "data": {
      "text/plain": [
       "200"
      ]
     },
     "execution_count": 1,
     "metadata": {},
     "output_type": "execute_result"
    }
   ],
   "source": [
    "def prod(a,b):\n",
    "    return a*b\n",
    "\n",
    "prod(10,20)"
   ]
  },
  {
   "cell_type": "code",
   "execution_count": 8,
   "metadata": {},
   "outputs": [
    {
     "name": "stdout",
     "output_type": "stream",
     "text": [
      "khsinak\n"
     ]
    }
   ],
   "source": [
    "class StringManipulator:\n",
    "    def reverse_str(self, string1):\n",
    "        return string1[::-1]\n",
    "\n",
    "obj1 = StringManipulator()\n",
    "res = obj1.reverse_str(\"kanishk\")\n",
    "print(res)"
   ]
  },
  {
   "cell_type": "code",
   "execution_count": 33,
   "metadata": {},
   "outputs": [
    {
     "name": "stdout",
     "output_type": "stream",
     "text": [
      "0\n",
      "2\n",
      "4\n"
     ]
    }
   ],
   "source": [
    "def even(limit):\n",
    "    for i in range(limit):\n",
    "        if(i%2==0):\n",
    "            yield i\n",
    "        \n",
    "even_gen = even(10)\n",
    "print(next(even_gen))\n",
    "print(next(even_gen))\n",
    "print(next(even_gen))"
   ]
  },
  {
   "cell_type": "code",
   "execution_count": 11,
   "metadata": {},
   "outputs": [
    {
     "data": {
      "text/plain": [
       "3"
      ]
     },
     "execution_count": 11,
     "metadata": {},
     "output_type": "execute_result"
    }
   ],
   "source": [
    "def count_vowels(string1):\n",
    "    vow = ['a','e','i','o','u']\n",
    "    c = 0\n",
    "    for i in range(len(string1)):\n",
    "        if(string1[i] in vow):\n",
    "            c += 1\n",
    "    return c\n",
    "\n",
    "count_vowels(\"hello world\")"
   ]
  },
  {
   "cell_type": "code",
   "execution_count": 16,
   "metadata": {},
   "outputs": [
    {
     "name": "stdout",
     "output_type": "stream",
     "text": [
      "32\n"
     ]
    }
   ],
   "source": [
    "class Calculator:\n",
    "    def power(self, base, exp):\n",
    "        return base ** exp\n",
    "\n",
    "obj1 = Calculator()\n",
    "res = obj1.power(2, 5)\n",
    "print(res)"
   ]
  },
  {
   "cell_type": "code",
   "execution_count": 41,
   "metadata": {},
   "outputs": [
    {
     "name": "stdout",
     "output_type": "stream",
     "text": [
      "0\n",
      "1\n",
      "1\n",
      "2\n",
      "3\n",
      "5\n",
      "8\n"
     ]
    }
   ],
   "source": [
    "def fibo(n):\n",
    "    a = 0\n",
    "    b = 1\n",
    "    print(a)\n",
    "    print(b)\n",
    "    for i in range(15):\n",
    "        c = a+b\n",
    "        a = b\n",
    "        b = c\n",
    "        yield c\n",
    "\n",
    "fibos = fibo(10)\n",
    "print(next(fibos))\n",
    "print(next(fibos))\n",
    "print(next(fibos))\n",
    "print(next(fibos))\n",
    "print(next(fibos))"
   ]
  },
  {
   "cell_type": "code",
   "execution_count": 50,
   "metadata": {},
   "outputs": [
    {
     "data": {
      "text/plain": [
       "[1, 3, 2, 4, 6, 5]"
      ]
     },
     "execution_count": 50,
     "metadata": {},
     "output_type": "execute_result"
    }
   ],
   "source": [
    "def unique_ele(list):\n",
    "    uni = []\n",
    "    for i in list:\n",
    "        if(i not in uni):\n",
    "            uni.append(i)\n",
    "    return uni\n",
    "unique_ele([1,1,3,2,3,3,4,6,5,4,5])"
   ]
  },
  {
   "cell_type": "code",
   "execution_count": 52,
   "metadata": {},
   "outputs": [
    {
     "name": "stdout",
     "output_type": "stream",
     "text": [
      "Sending email to: abc@gmail.com\n",
      "Subject: Reason\n",
      "Body: Hello world.\n"
     ]
    }
   ],
   "source": [
    "class EmailSender:\n",
    "    def send_email(self, to, subject, body):\n",
    "        print(\"Sending email to:\", to)\n",
    "        print(\"Subject:\", subject)\n",
    "        print(\"Body:\", body)\n",
    "\n",
    "send = EmailSender()\n",
    "send.send_email(\"abc@gmail.com\", \"Reason\", \"Hello world.\")"
   ]
  },
  {
   "cell_type": "code",
   "execution_count": null,
   "metadata": {},
   "outputs": [],
   "source": []
  }
 ],
 "metadata": {
  "kernelspec": {
   "display_name": "Python 3",
   "language": "python",
   "name": "python3"
  },
  "language_info": {
   "codemirror_mode": {
    "name": "ipython",
    "version": 3
   },
   "file_extension": ".py",
   "mimetype": "text/x-python",
   "name": "python",
   "nbconvert_exporter": "python",
   "pygments_lexer": "ipython3",
   "version": "3.11.9"
  }
 },
 "nbformat": 4,
 "nbformat_minor": 2
}
