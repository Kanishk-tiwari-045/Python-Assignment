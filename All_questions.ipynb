{
 "cells": [
  {
   "cell_type": "markdown",
   "metadata": {},
   "source": [
    "Basic Set"
   ]
  },
  {
   "cell_type": "code",
   "execution_count": 36,
   "metadata": {},
   "outputs": [],
   "source": [
    "n = int(input(\"Enter the number: \"))\n",
    "if(n%5==0 and n%3==0):\n",
    "    print(\"Brudite Python-training\")\n",
    "elif(n%5==0):\n",
    "    print(\"Python-training\")\n",
    "elif(n%3==0):\n",
    "    print(\"Brudite\")"
   ]
  },
  {
   "cell_type": "code",
   "execution_count": null,
   "metadata": {},
   "outputs": [
    {
     "name": "stdout",
     "output_type": "stream",
     "text": [
      "Alphabets:  5\n",
      "Numbers:  3\n"
     ]
    }
   ],
   "source": [
    "str1 = input(\"Enter string: \")\n",
    "len1 = len(str1)\n",
    "alp = 0\n",
    "num = 0\n",
    "\n",
    "for i in range(len1):\n",
    "    if('a'<=str1[i]<='z' or 'A'<=str1[i]<='Z'):\n",
    "        alp += 1\n",
    "    elif(str1[i].isdigit()):\n",
    "        num += 1\n",
    "\n",
    "print(\"Alphabets: \",alp)\n",
    "print(\"Numbers: \",num)\n"
   ]
  },
  {
   "cell_type": "code",
   "execution_count": null,
   "metadata": {},
   "outputs": [
    {
     "name": "stdout",
     "output_type": "stream",
     "text": [
      "Grade C\n"
     ]
    }
   ],
   "source": [
    "Physics = float(input(\"Enter physics marks: \"))\n",
    "Mathematics = float(input(\"Enter mathematics marks: \"))\n",
    "Chemistry = float(input(\"Enter chemistry marks: \"))\n",
    "Biology = float(input(\"Enter biology marks: \"))\n",
    "Computer = float(input(\"Enter computer marks: \"))\n",
    "\n",
    "Total = Physics + Mathematics + Chemistry + Biology + Computer\n",
    "Percentage = (Total/500)*100\n",
    "\n",
    "if(Percentage>=90):\n",
    "    print(\"Grade A\")\n",
    "elif(Percentage>=80):\n",
    "    print(\"Grade B\")\n",
    "elif(Percentage>=70):\n",
    "    print(\"Grade C\")\n",
    "elif(Percentage>=60):\n",
    "    print(\"Grade D\")\n",
    "elif(Percentage>=40):\n",
    "    print(\"Grade E\")\n",
    "elif(Percentage<40):\n",
    "    print(\"Grade F\")"
   ]
  },
  {
   "cell_type": "code",
   "execution_count": null,
   "metadata": {},
   "outputs": [
    {
     "name": "stdout",
     "output_type": "stream",
     "text": [
      "Sum of all odd numers:  25\n"
     ]
    }
   ],
   "source": [
    "sum = 0\n",
    "for i in range(1,11):\n",
    "    if(i%2!=0):\n",
    "        sum+=i\n",
    "print(\"Sum of all odd numers: \",sum)"
   ]
  },
  {
   "cell_type": "code",
   "execution_count": null,
   "metadata": {},
   "outputs": [
    {
     "name": "stdout",
     "output_type": "stream",
     "text": [
      "6 is a perfect number\n"
     ]
    }
   ],
   "source": [
    "n = int(input(\"Enter the number: \"))\n",
    "sum = 0\n",
    "for i in range(1,n):\n",
    "    if(n%i==0):\n",
    "        sum+=i\n",
    "if(sum==n):\n",
    "    print(n,\"is a perfect number\")\n",
    "else:\n",
    "    print(n,\"is not a perfect number\")"
   ]
  },
  {
   "cell_type": "code",
   "execution_count": null,
   "metadata": {},
   "outputs": [
    {
     "name": "stdout",
     "output_type": "stream",
     "text": [
      "False\n"
     ]
    }
   ],
   "source": [
    "str1 = str(input(\"Enter string1: \")).lower()\n",
    "str2 = str(input(\"Enter string2: \")).lower()\n",
    "if(sorted(str1)==sorted(str2)):\n",
    "    print(\"True\")\n",
    "else:\n",
    "    print(\"False\")"
   ]
  },
  {
   "cell_type": "code",
   "execution_count": null,
   "metadata": {},
   "outputs": [],
   "source": [
    "# n1 = int(input(\"Enter number1: \"))\n",
    "# n2 = int(input(\"Enter number2: \"))\n",
    "\n",
    "# for i in range(max(n1,n2)):\n",
    "# LCM"
   ]
  },
  {
   "cell_type": "code",
   "execution_count": null,
   "metadata": {},
   "outputs": [
    {
     "name": "stdout",
     "output_type": "stream",
     "text": [
      "[1, 2, 3, 2, 4, 1, 2, 4, 5]\n",
      "{1: 2, 2: 3, 3: 1, 4: 2, 5: 1}\n"
     ]
    }
   ],
   "source": [
    "size = int(input(\"Enter the size: \"))\n",
    "list1 = []\n",
    "count = 0\n",
    "dict1 = {}\n",
    "for i in range(size):\n",
    "    list1.append(int(input(i)))\n",
    "    count += list1[i]\n",
    "    if list1[i] in dict1:\n",
    "        dict1[list1[i]] += 1\n",
    "    else:\n",
    "        dict1[list1[i]] = 1\n",
    "\n",
    "print(list1)\n",
    "print(dict1)"
   ]
  },
  {
   "cell_type": "code",
   "execution_count": null,
   "metadata": {},
   "outputs": [
    {
     "name": "stdout",
     "output_type": "stream",
     "text": [
      "boy good a is kanishk\n"
     ]
    }
   ],
   "source": [
    "str1 = str(input(\"Enter the string: \"))\n",
    "len1 = len(str1)\n",
    "str_list = []\n",
    "word = ''\n",
    "\n",
    "for i in range(len1):\n",
    "    if(str1[i]==' ' or i==len1-1):\n",
    "        if(i==len1-1 and str1[i]!=' '):\n",
    "            word += str1[i]\n",
    "        if word:\n",
    "            str_list.insert(0, word)\n",
    "        word = ''\n",
    "    else:\n",
    "        word += str1[i]\n",
    "\n",
    "str_list = ' '.join(str_list)\n",
    "print(str_list)"
   ]
  },
  {
   "cell_type": "code",
   "execution_count": null,
   "metadata": {},
   "outputs": [
    {
     "name": "stdout",
     "output_type": "stream",
     "text": [
      "Sum of 9876 is 3\n"
     ]
    }
   ],
   "source": [
    "n = int(input(\"Enter the number: \"))\n",
    "a = n\n",
    "while(a>=10):\n",
    "    sum = 0\n",
    "    while(a>0):\n",
    "        sum += a%10\n",
    "        a //= 10\n",
    "    a = sum\n",
    "\n",
    "print(\"Sum of\", n, \"is\", sum)"
   ]
  },
  {
   "cell_type": "code",
   "execution_count": null,
   "metadata": {},
   "outputs": [
    {
     "name": "stdout",
     "output_type": "stream",
     "text": [
      "Reversed number: 54321\n"
     ]
    }
   ],
   "source": [
    "n = int(input(\"Enter the number: \"))\n",
    "a = n\n",
    "rev = 0\n",
    "\n",
    "while(a>0):\n",
    "    count = a%10\n",
    "    rev = rev*10+count\n",
    "    a //= 10\n",
    "\n",
    "print(rev)"
   ]
  },
  {
   "cell_type": "markdown",
   "metadata": {},
   "source": [
    "Medium set"
   ]
  },
  {
   "cell_type": "code",
   "execution_count": 6,
   "metadata": {},
   "outputs": [
    {
     "name": "stdout",
     "output_type": "stream",
     "text": [
      "[4, 5]\n"
     ]
    }
   ],
   "source": [
    "size1 = int(input(\"Enter size1: \"))\n",
    "size2 = int(input(\"Enter size2: \"))\n",
    "list1 = []\n",
    "list2 = []\n",
    "com = []\n",
    "\n",
    "for i in range(size1):\n",
    "    list1.append(int(input(i)))\n",
    "for i in range(size1):\n",
    "    list2.append(int(input(i)))\n",
    "\n",
    "for i in range(size1):\n",
    "    for j in range(size2):\n",
    "        if(list1[i]==list2[j]):\n",
    "            com.append(list1[i])\n",
    "\n",
    "print(com)\n"
   ]
  },
  {
   "cell_type": "code",
   "execution_count": 10,
   "metadata": {},
   "outputs": [
    {
     "name": "stdout",
     "output_type": "stream",
     "text": [
      "Unique elements: [1, 2, 3, 4, 5]\n"
     ]
    }
   ],
   "source": [
    "size1 = int(input(\"Enter size1: \"))\n",
    "list1 = []\n",
    "uni = []\n",
    "\n",
    "for i in range(size1):\n",
    "    list1.append(int(input(i)))\n",
    "\n",
    "for i in range(size1):\n",
    "    if list1[i] not in uni:\n",
    "        uni.append(list1[i])\n",
    "\n",
    "print(uni)"
   ]
  },
  {
   "cell_type": "code",
   "execution_count": 15,
   "metadata": {},
   "outputs": [
    {
     "name": "stdout",
     "output_type": "stream",
     "text": [
      "2\n"
     ]
    }
   ],
   "source": [
    "size1 = int(input(\"Enter size1: \"))\n",
    "target = int(input(\"Enter the target: \"))\n",
    "list1 = []\n",
    "count = 0\n",
    "\n",
    "for i in range(size1):\n",
    "    list1.append(int(input(i)))\n",
    "\n",
    "for i in range(size1-1):\n",
    "    for j in range(i+1,size1):\n",
    "        if(list1[i]+list1[j]==target):\n",
    "            count += 1\n",
    "\n",
    "print(count)\n"
   ]
  },
  {
   "cell_type": "code",
   "execution_count": 22,
   "metadata": {},
   "outputs": [
    {
     "name": "stdout",
     "output_type": "stream",
     "text": [
      "[[4, 5, 1, 2, 3]]\n"
     ]
    }
   ],
   "source": [
    "size1 = int(input(\"Enter size1: \"))\n",
    "rotate = int(input(\"Enter rotation\"))\n",
    "list1 = []\n",
    "list2 = []\n",
    "\n",
    "for i in range(size1):\n",
    "    list1.append(int(input(i)))\n",
    "\n",
    "list2.append(list1[-rotate:]+list1[:-rotate])\n",
    "print(list2)"
   ]
  },
  {
   "cell_type": "code",
   "execution_count": 24,
   "metadata": {},
   "outputs": [
    {
     "name": "stdout",
     "output_type": "stream",
     "text": [
      "Highest temprature:  28.0\n",
      "Lowest temprature:  21.0\n",
      "Average temprature:  25.0\n"
     ]
    }
   ],
   "source": [
    "size1 = int(input(\"Enter size1: \"))\n",
    "temp = []\n",
    "highest = 0\n",
    "lowest = 100000\n",
    "avg = 0\n",
    "\n",
    "for i in range(size1):\n",
    "    temp.append(float(input(i)))\n",
    "    if(temp[i]>highest):\n",
    "        highest = temp[i]\n",
    "        \n",
    "    if(temp[i]<lowest):\n",
    "        lowest = temp[i]\n",
    "    \n",
    "    avg += temp[i]/size1\n",
    "\n",
    "print(\"Highest temprature: \",highest)\n",
    "print(\"Lowest temprature: \",lowest)\n",
    "print(\"Average temprature: \",avg)"
   ]
  },
  {
   "cell_type": "code",
   "execution_count": 29,
   "metadata": {},
   "outputs": [
    {
     "name": "stdout",
     "output_type": "stream",
     "text": [
      "No its not\n"
     ]
    }
   ],
   "source": [
    "def power(n):\n",
    "    if(n==1):\n",
    "        return True\n",
    "    if(n%2!=0):\n",
    "        return False\n",
    "    return power(n//2)\n",
    "\n",
    "n = int(input(\"Enter the number: \"))\n",
    "if power(n):\n",
    "    print(\"Yes it is\")\n",
    "else:\n",
    "    print(\"No its not\")"
   ]
  },
  {
   "cell_type": "code",
   "execution_count": 31,
   "metadata": {},
   "outputs": [
    {
     "name": "stdout",
     "output_type": "stream",
     "text": [
      "Median:  4.5\n"
     ]
    }
   ],
   "source": [
    "size1 = int(input(\"Enter size1: \"))\n",
    "list1 = []\n",
    "med = 0\n",
    "\n",
    "for i in range(size1):\n",
    "    list1.append(int(input(i)))\n",
    "    med += list1[i]/size1\n",
    "\n",
    "print(\"Median: \",med)"
   ]
  },
  {
   "cell_type": "code",
   "execution_count": 4,
   "metadata": {},
   "outputs": [
    {
     "name": "stdout",
     "output_type": "stream",
     "text": [
      "Number of vowels:  3\n"
     ]
    }
   ],
   "source": [
    "str1 = str(input(\"Enter the string: \"))\n",
    "vowels = ['a', 'e', 'i', 'o', 'u', 'A', 'E', 'I', 'O', 'U']\n",
    "c = 0\n",
    "for i in range(len(str1)):\n",
    "    if str1[i] in vowels:\n",
    "        c += 1\n",
    "\n",
    "print(\"Number of vowels: \",c)"
   ]
  },
  {
   "cell_type": "code",
   "execution_count": 9,
   "metadata": {},
   "outputs": [
    {
     "name": "stdout",
     "output_type": "stream",
     "text": [
      "Index  6  is out of range\n"
     ]
    }
   ],
   "source": [
    "size1 = int(input(\"Enter size: \"))\n",
    "list1 = []\n",
    "index = int(input(\"Enter index: \"))\n",
    "\n",
    "for i in range(size1):\n",
    "    list1.append(int(input(i)))\n",
    "\n",
    "try:\n",
    "    ele = list1[index]\n",
    "    print(\"Present at index:\",index)\n",
    "except IndexError:\n",
    "    print(\"Index\",index,\"is out of range\")\n"
   ]
  },
  {
   "cell_type": "code",
   "execution_count": null,
   "metadata": {},
   "outputs": [],
   "source": [
    "#Pile of stones"
   ]
  },
  {
   "cell_type": "code",
   "execution_count": 10,
   "metadata": {},
   "outputs": [
    {
     "name": "stdout",
     "output_type": "stream",
     "text": [
      "[['R', 'e', 'd'], ['B', 'l', 'u', 'e'], ['B', 'l', 'a', 'c', 'k'], ['W', 'h', 'i', 't', 'e'], ['P', 'i', 'n', 'k']]\n"
     ]
    }
   ],
   "source": [
    "list1 = ['Red', 'Blue', 'Black', 'White', 'Pink']\n",
    "out = list(map(list, list1))\n",
    "print(out)"
   ]
  },
  {
   "cell_type": "code",
   "execution_count": 17,
   "metadata": {},
   "outputs": [
    {
     "name": "stdout",
     "output_type": "stream",
     "text": [
      "Login successful\n"
     ]
    },
    {
     "data": {
      "text/plain": [
       "True"
      ]
     },
     "execution_count": 17,
     "metadata": {},
     "output_type": "execute_result"
    }
   ],
   "source": [
    "def login():\n",
    "    max_attempts = 3\n",
    "    attempts = 0\n",
    "    username = input(\"Enter username: \")\n",
    "    \n",
    "    while attempts < max_attempts:\n",
    "        passwd = input(\"Enter password: \")\n",
    "        retype_passwd = input(\"Re-type password: \")\n",
    "        if passwd == retype_passwd:\n",
    "            print(\"Login successful\")\n",
    "            return True\n",
    "        else:\n",
    "            attempts += 1\n",
    "            if attempts < max_attempts:\n",
    "                print(\"Passwords do not match. You have\", max_attempts - attempts, \"attempts left.\")\n",
    "    print(\"Login failed. Too many incorrect attempts.\")\n",
    "    return False\n",
    "\n",
    "login()\n"
   ]
  },
  {
   "cell_type": "code",
   "execution_count": 21,
   "metadata": {},
   "outputs": [
    {
     "name": "stdout",
     "output_type": "stream",
     "text": [
      "True\n"
     ]
    }
   ],
   "source": [
    "start = lambda string, char: string[0] == char\n",
    "str1 = str(input(\"Enter the string: \"))\n",
    "char = input(\"Enter the character: \")\n",
    "print(start(str1, char))"
   ]
  },
  {
   "cell_type": "code",
   "execution_count": null,
   "metadata": {},
   "outputs": [],
   "source": []
  }
 ],
 "metadata": {
  "kernelspec": {
   "display_name": "Python 3",
   "language": "python",
   "name": "python3"
  },
  "language_info": {
   "codemirror_mode": {
    "name": "ipython",
    "version": 3
   },
   "file_extension": ".py",
   "mimetype": "text/x-python",
   "name": "python",
   "nbconvert_exporter": "python",
   "pygments_lexer": "ipython3",
   "version": "3.11.9"
  }
 },
 "nbformat": 4,
 "nbformat_minor": 2
}
